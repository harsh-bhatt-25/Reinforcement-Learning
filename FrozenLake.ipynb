{
 "cells": [
  {
   "cell_type": "code",
   "execution_count": 1,
   "metadata": {},
   "outputs": [],
   "source": [
    "import numpy as np\n",
    "import gym\n",
    "import random\n",
    "import time\n",
    "from IPython.display import clear_output"
   ]
  },
  {
   "cell_type": "code",
   "execution_count": null,
   "outputs": [],
   "source": [
    "env = gym.make(\"FrozenLake-v0\")"
   ],
   "metadata": {
    "collapsed": false,
    "pycharm": {
     "name": "#%%\n"
    }
   }
  },
  {
   "cell_type": "code",
   "execution_count": null,
   "outputs": [],
   "source": [
    "actions = env.action_space.n\n",
    "states = env.observation_space.n\n",
    "print(states, actions)"
   ],
   "metadata": {
    "collapsed": false,
    "pycharm": {
     "name": "#%%\n"
    }
   }
  },
  {
   "cell_type": "code",
   "execution_count": null,
   "outputs": [],
   "source": [
    "q_table = np.zeros((states, actions))\n",
    "print(q_table)"
   ],
   "metadata": {
    "collapsed": false,
    "pycharm": {
     "name": "#%%\n"
    }
   }
  },
  {
   "cell_type": "code",
   "execution_count": null,
   "outputs": [],
   "source": [
    "episodes = 10000\n",
    "steps_per_episode = 100\n",
    "learning_rate = 0.1\n",
    "discount_rate = 0.99\n",
    "exploration_rate = 1\n",
    "max_rate = 1\n",
    "min_rate = 0.01\n",
    "decay = 0.001"
   ],
   "metadata": {
    "collapsed": false,
    "pycharm": {
     "name": "#%%\n"
    }
   }
  },
  {
   "cell_type": "code",
   "execution_count": null,
   "outputs": [],
   "source": [
    "total_rewards = []\n",
    "\n",
    "# Q-learning algorithm\n",
    "for episode in range(episodes):\n",
    "    state = env.reset()\n",
    "    done = False\n",
    "    current_reward = 0\n",
    "    \n",
    "    for step in range(steps_per_episode):\n",
    "        exploration_threshold = random.uniform(0,1)\n",
    "        if exploration_threshold > exploration_rate:\n",
    "            action = np.argmax(q_table[state, :])\n",
    "        else:\n",
    "            action = env.action_space.sample()\n",
    "        \n",
    "        new_state, reward, done, info = env.step(action)\n",
    "        \n",
    "        q_table[state, action] = q_table[state, action] * (1- learning_rate) + learning_rate * (reward + discount_rate * np.max(q_table[new_state, :]))\n",
    "        state = new_state\n",
    "        current_reward += reward\n",
    "        \n",
    "        if done == True:\n",
    "            break\n",
    "        \n",
    "    # Exploration decay\n",
    "    exploration_rate = min_rate + (max_rate - min_rate) * np.exp(-decay * episode)\n",
    "        \n",
    "    total_rewards.append(current_reward)\n",
    "\n",
    "thousand_rewards = np.split(np.array(total_rewards), episodes/1000)\n",
    "count = 1000\n",
    "print(\"Average reward per 1000 episodes \\n\")\n",
    "for i in thousand_rewards:\n",
    "    print(\"{} : {}\".format(count, str(sum(i/1000))))\n",
    "    count += 1000\n",
    "\n",
    "print(\"\\nQ-table\\n\")\n",
    "print(q_table)"
   ],
   "metadata": {
    "collapsed": false,
    "pycharm": {
     "name": "#%%\n"
    }
   }
  },
  {
   "cell_type": "code",
   "execution_count": 17,
   "metadata": {},
   "outputs": [],
   "source": [
    "total_rewards = []\n",
    "\n",
    "# Q-learning algorithm\n",
    "for episode in range(episodes):\n",
    "    state = env.reset()\n",
    "    done = False\n",
    "    current_reward = 0\n",
    "    \n",
    "    for step in range(steps_per_episode):\n",
    "        exploration_threshold = random.uniform(0,1)\n",
    "        if exploration_threshold > exploration_rate:\n",
    "            action = np.argmax(q_table[state, :])\n",
    "        else:\n",
    "            action = env.action_space.sample()\n",
    "        \n",
    "        new_state, reward, done, info = env.step(action)\n",
    "        \n",
    "        q_table[state, action] = q_table[state, action] * (1- learning_rate) + learning_rate * (reward + discount_rate * np.max(q_table[new_state, :]))\n",
    "        state = new_state\n",
    "        current_reward += reward\n",
    "        \n",
    "        if done == True:\n",
    "            break\n",
    "        \n",
    "    # Exploration decay\n",
    "    exploration_rate = min_rate + (max_rate - min_rate) * np.exp(-decay * episode)\n",
    "        \n",
    "    total_rewards.append(current_reward)\n",
    "\n",
    "thousand_rewards = np.split(np.array(total_rewards), episodes/1000)\n",
    "count = 1000\n",
    "print(\"Average reward per 1000 episodes \\n\")\n",
    "for i in thousand_rewards:\n",
    "    print(\"{} : {}\".format(count, str(sum(i/1000))))\n",
    "    count += 1000\n",
    "\n",
    "print(\"\\nQ-table\\n\")\n",
    "print(q_table)"
   ]
  },
  {
   "cell_type": "code",
   "execution_count": 8,
   "metadata": {},
   "outputs": [
    {
     "name": "stdout",
     "output_type": "stream",
     "text": [
      "16 4\n"
     ]
    }
   ],
   "source": [
    "actions = env.action_space.n\n",
    "states = env.observation_space.n\n",
    "print(states, actions)"
   ]
  },
  {
   "cell_type": "code",
   "execution_count": 7,
   "metadata": {},
   "outputs": [
    {
     "name": "stdout",
     "output_type": "stream",
     "text": [
      "[[0. 0. 0. 0.]\n",
      " [0. 0. 0. 0.]\n",
      " [0. 0. 0. 0.]\n",
      " [0. 0. 0. 0.]\n",
      " [0. 0. 0. 0.]\n",
      " [0. 0. 0. 0.]\n",
      " [0. 0. 0. 0.]\n",
      " [0. 0. 0. 0.]\n",
      " [0. 0. 0. 0.]\n",
      " [0. 0. 0. 0.]\n",
      " [0. 0. 0. 0.]\n",
      " [0. 0. 0. 0.]\n",
      " [0. 0. 0. 0.]\n",
      " [0. 0. 0. 0.]\n",
      " [0. 0. 0. 0.]\n",
      " [0. 0. 0. 0.]]\n"
     ]
    }
   ],
   "source": [
    "q_table = np.zeros((states, actions))\n",
    "print(q_table)"
   ]
  },
  {
   "cell_type": "code",
   "execution_count": 19,
   "metadata": {},
   "outputs": [],
   "source": [
    "episodes = 10000\n",
    "steps_per_episode = 100\n",
    "learning_rate = 0.1\n",
    "discount_rate = 0.99\n",
    "exploration_rate = 1\n",
    "max_rate = 1\n",
    "min_rate = 0.01\n",
    "decay = 0.001"
   ]
  },
  {
   "cell_type": "code",
   "execution_count": 24,
   "metadata": {},
   "outputs": [
    {
     "name": "stdout",
     "output_type": "stream",
     "text": [
      "Average reward per 1000 episodes \n",
      "\n",
      "1000 : 0.04100000000000003\n",
      "2000 : 0.20900000000000016\n",
      "3000 : 0.3930000000000003\n",
      "4000 : 0.5540000000000004\n",
      "5000 : 0.6270000000000004\n",
      "6000 : 0.6800000000000005\n",
      "7000 : 0.6810000000000005\n",
      "8000 : 0.6810000000000005\n",
      "9000 : 0.6780000000000005\n",
      "10000 : 0.6810000000000005\n",
      "\n",
      "Q-table\n",
      "\n",
      "[[0.52253406 0.49635275 0.50075802 0.50236937]\n",
      " [0.36828298 0.36039708 0.29091153 0.48905242]\n",
      " [0.4197704  0.41335659 0.40530025 0.4575074 ]\n",
      " [0.2815233  0.3275609  0.25634037 0.43765137]\n",
      " [0.5406537  0.42853779 0.24513953 0.30034074]\n",
      " [0.         0.         0.         0.        ]\n",
      " [0.25208092 0.13853044 0.16005061 0.17521661]\n",
      " [0.         0.         0.         0.        ]\n",
      " [0.42416248 0.22004048 0.41392397 0.5743945 ]\n",
      " [0.56780605 0.62938432 0.40684659 0.34548721]\n",
      " [0.58557402 0.40116357 0.4215965  0.41904593]\n",
      " [0.         0.         0.         0.        ]\n",
      " [0.         0.         0.         0.        ]\n",
      " [0.5793996  0.58352625 0.7562286  0.45505909]\n",
      " [0.75182682 0.89725078 0.78223265 0.75749109]\n",
      " [0.         0.         0.         0.        ]]\n"
     ]
    }
   ],
   "source": [
    "total_rewards = []\n",
    "\n",
    "# Q-learning algorithm\n",
    "for episode in range(episodes):\n",
    "    state = env.reset()\n",
    "    done = False\n",
    "    current_reward = 0\n",
    "    \n",
    "    for step in range(steps_per_episode):\n",
    "        exploration_threshold = random.uniform(0,1)\n",
    "        if exploration_threshold > exploration_rate:\n",
    "            action = np.argmax(q_table[state, :])\n",
    "        else:\n",
    "            action = env.action_space.sample()\n",
    "        \n",
    "        new_state, reward, done, info = env.step(action)\n",
    "        \n",
    "        q_table[state, action] = q_table[state, action] * (1- learning_rate) + learning_rate * (reward + discount_rate * np.max(q_table[new_state, :]))\n",
    "        state = new_state\n",
    "        current_reward += reward\n",
    "        \n",
    "        if done == True:\n",
    "            break\n",
    "        \n",
    "    # Exploration decay\n",
    "    exploration_rate = min_rate + (max_rate - min_rate) * np.exp(-decay * episode)\n",
    "        \n",
    "    total_rewards.append(current_reward)\n",
    "\n",
    "thousand_rewards = np.split(np.array(total_rewards), episodes/1000)\n",
    "count = 1000\n",
    "print(\"Average reward per 1000 episodes \\n\")\n",
    "for i in thousand_rewards:\n",
    "    print(\"{} : {}\".format(count, str(sum(i/1000))))\n",
    "    count += 1000\n",
    "\n",
    "print(\"\\nQ-table\\n\")\n",
    "print(q_table)"
   ]
  }
 ],
 "metadata": {
  "kernelspec": {
   "display_name": "Python 3",
   "language": "python",
   "name": "python3"
  },
  "language_info": {
   "codemirror_mode": {
    "name": "ipython",
    "version": 3
   },
   "file_extension": ".py",
   "mimetype": "text/x-python",
   "name": "python",
   "nbconvert_exporter": "python",
   "pygments_lexer": "ipython3",
   "version": "3.7.6"
  }
 },
 "nbformat": 4,
 "nbformat_minor": 1
}